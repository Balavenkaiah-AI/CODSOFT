{
 "cells": [
  {
   "cell_type": "code",
   "execution_count": 1,
   "metadata": {},
   "outputs": [
    {
     "name": "stdout",
     "output_type": "stream",
     "text": [
      "Chatbot: Hi! I am a rule-based chatbot. How can I assist you today?\n",
      "Type 'exit' to end the conversation.\n",
      "Chatbot: Hello! How can I help you?\n",
      "Chatbot: I'm just a program, but I'm functioning as expected!\n",
      "Chatbot: I am your friendly rule-based chatbot.\n",
      "Chatbot: Sure! Please specify what you need help with.\n",
      "Chatbot: The current time is 09:24:16.\n",
      "Chatbot: I'm sorry, I don't understand that. Can you please rephrase?\n",
      "Chatbot: Goodbye! Have a great day!\n"
     ]
    }
   ],
   "source": [
    "def chatbot():\n",
    "    print(\"Chatbot: Hi! I am a rule-based chatbot. How can I assist you today?\")\n",
    "    print(\"Type 'exit' to end the conversation.\")\n",
    "    \n",
    "    while True:\n",
    "        user_input = input(\"You: \").lower()\n",
    "        if user_input == \"exit\":\n",
    "            print(\"Chatbot: Goodbye! Have a great day!\")\n",
    "            break\n",
    "        if \"hello\" in user_input or \"hi\" in user_input:\n",
    "            print(\"Chatbot: Hello! How can I help you?\")\n",
    "        elif \"how are you\" in user_input:\n",
    "            print(\"Chatbot: I'm just a program, but I'm functioning as expected!\")\n",
    "        elif \"what is your name\" in user_input:\n",
    "            print(\"Chatbot: I am your friendly rule-based chatbot.\")\n",
    "        elif \"help\" in user_input:\n",
    "            print(\"Chatbot: Sure! Please specify what you need help with.\")\n",
    "        elif \"time\" in user_input:\n",
    "            from datetime import datetime\n",
    "            print(f\"Chatbot: The current time is {datetime.now().strftime('%H:%M:%S')}.\")\n",
    "        else:\n",
    "            print(\"Chatbot: I'm sorry, I don't understand that. Can you please rephrase?\")\n",
    "chatbot()"
   ]
  }
 ],
 "metadata": {
  "kernelspec": {
   "display_name": "Python 3",
   "language": "python",
   "name": "python3"
  },
  "language_info": {
   "codemirror_mode": {
    "name": "ipython",
    "version": 3
   },
   "file_extension": ".py",
   "mimetype": "text/x-python",
   "name": "python",
   "nbconvert_exporter": "python",
   "pygments_lexer": "ipython3",
   "version": "3.12.6"
  }
 },
 "nbformat": 4,
 "nbformat_minor": 2
}
